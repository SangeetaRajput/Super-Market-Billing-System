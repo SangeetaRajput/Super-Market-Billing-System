{
 "cells": [
  {
   "cell_type": "markdown",
   "id": "79effc2a-3552-4472-84aa-705ac1b9da41",
   "metadata": {},
   "source": [
    "# Super Market Billing System"
   ]
  },
  {
   "cell_type": "code",
   "execution_count": 2,
   "id": "5a8ff6f6-c34d-47e1-8702-184b1a5e7a72",
   "metadata": {},
   "outputs": [],
   "source": [
    "products = {\"Apples\":40, \"Chips\":20, \"Avacado\":105, \"Cola\":40}"
   ]
  },
  {
   "cell_type": "code",
   "execution_count": 6,
   "id": "8d62666b-7837-4baf-945b-4ccf5f5ef422",
   "metadata": {},
   "outputs": [
    {
     "name": "stdout",
     "output_type": "stream",
     "text": [
      "--------------- Welcome To Wscubemart ---------------\n"
     ]
    },
    {
     "name": "stdin",
     "output_type": "stream",
     "text": [
      "enter your name:  Sangeeta\n",
      "enter phone number:  34654765876\n"
     ]
    },
    {
     "name": "stdout",
     "output_type": "stream",
     "text": [
      "------- products Lists -------\n",
      "        Apples : 40\n",
      "        Chips : 20\n",
      "        Avacado : 105\n",
      "        Cola : 40\n"
     ]
    },
    {
     "name": "stdin",
     "output_type": "stream",
     "text": [
      "enter product name you wish to buy:  Apples\n",
      "enter quantity you wish to buy:  6\n",
      " do you wanna add more items?(yes/no)  yes\n",
      "enter product name you wish to buy:  Chips\n",
      "enter quantity you wish to buy:  8\n",
      " do you wanna add more items?(yes/no)  no\n"
     ]
    },
    {
     "name": "stdout",
     "output_type": "stream",
     "text": [
      "----------------------------------------\n",
      "Name:  Sangeeta\n",
      "phone:  34654765876\n",
      "Apples price:  40 X 6.0 =  240.0\n",
      "Chips price:  20 X 8.0 =  160.0\n",
      "Total Amount:  400.0\n",
      "Discount Applied:  0 %\n",
      "----------------------------------------\n",
      "payable Amount:  400.0\n",
      "----------------------------------------\n"
     ]
    }
   ],
   "source": [
    "print(\"-\"*15, \"Welcome To Wscubemart\", \"-\"*15)\n",
    "cart = {}\n",
    "amount = 0\n",
    "name = input('enter your name: ')\n",
    "ph_no = input('enter phone number: ')\n",
    "discount = 0\n",
    "\n",
    "print(\"-\"*7, \"products Lists\", \"-\"*7)\n",
    "for i,j in products.items():\n",
    "    print(\" \"*7, i, \":\", j)\n",
    "while True:\n",
    "    p_name = input(\"enter product name you wish to buy: \").capitalize()\n",
    "    quantity = float(input(\"enter quantity you wish to buy: \"))\n",
    "    val = []\n",
    "    val.append(products[p_name])\n",
    "    val.append(quantity)\n",
    "    val.append(quantity*products[p_name])\n",
    "    cart[p_name] = val\n",
    "    amount += products[p_name]*quantity\n",
    "    repeat = input(\" do you wanna add more items?(yes/no) \").capitalize()\n",
    "    if repeat == \"No\":\n",
    "        break\n",
    "\n",
    "if amount <= 500:\n",
    "    discount = 0\n",
    "elif amount <=1000:\n",
    "      discount =0.05\n",
    "elif amount <= 3000:\n",
    "      discount = 0.10\n",
    "else:\n",
    "      discount =0.15\n",
    "\n",
    "act_amount = amount-(amount*discount)\n",
    "print(\"-\"*40)\n",
    "print(\"Name: \", name)\n",
    "print(\"phone: \", ph_no)\n",
    "for i, j in cart.items():\n",
    "    print(i, \"price: \",j[0], \"X\", j[1], \"= \", j[2])\n",
    "print(\"Total Amount: \", amount)\n",
    "print(\"Discount Applied: \", discount*100,\"%\")\n",
    "print(\"-\"*40)\n",
    "print(\"payable Amount: \", act_amount)\n",
    "print(\"-\"*40)\n"
   ]
  }
 ],
 "metadata": {
  "kernelspec": {
   "display_name": "Python 3 (ipykernel)",
   "language": "python",
   "name": "python3"
  },
  "language_info": {
   "codemirror_mode": {
    "name": "ipython",
    "version": 3
   },
   "file_extension": ".py",
   "mimetype": "text/x-python",
   "name": "python",
   "nbconvert_exporter": "python",
   "pygments_lexer": "ipython3",
   "version": "3.12.8"
  }
 },
 "nbformat": 4,
 "nbformat_minor": 5
}
